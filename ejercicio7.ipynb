{
 "cells": [
  {
   "cell_type": "code",
   "execution_count": 1,
   "metadata": {},
   "outputs": [],
   "source": [
    "import math\n",
    "import numpy as np\n",
    "import matplotlib.pyplot as plt\n",
    "import scipy as sp\n",
    "import scipy.stats as st"
   ]
  },
  {
   "cell_type": "markdown",
   "metadata": {},
   "source": [
    "# Introduccion\n",
    "La forma de obtener distribuciones de una variable que siga una cierta distribucion de probabilidad es variada. Para desarrolar una distribucion gaussiana, tanto el metodo de la funcion inversa, como el metodo de Monte Carlos fallan. El primero debido a que no se puede invertir (da la funcion error) y el segundo es debido a que no es de soporte compacto. Por ello que se requiere del metodo de Box-Muller. En este metodo se usan dos numeros randonm con probabiidad uniforme y usando el teorema de cambio de variables aleatorias se pueden obtener mediante el cambio propuesto dos variables aleatorias que siguen esa distribucion. comenzamos con dos gaussiana $$f(x) = \\frac{e^\\frac{−x^2}{2}}{\\sqrt{2π}}$$. $$g(y) = \\frac{e^\\frac{−y^2}{2}}{\\sqrt{2π}}$$ al ser ambas independientes la multiplicacion de ambas es la funcion densidad conjunta $$F(x,y) = \\frac{e^\\frac{−(x^2+y^2)}{2}}{{2π}}$$. luego a traves del cambio \n",
    "\n",
    "$$R^2=x^2+y^2$$  \n",
    "$$tan(\\theta)=\\frac{y}{x}$$ y del teorema del cambio de variable aleatoria: \n",
    "\n",
    "<img src=\"cam.png\">\n",
    "\n",
    "se obtiene \n",
    "\n",
    "$$F(R^2,\\theta)=\\frac{1}{2}\\cdot \\frac{1}{2\\pi} \\cdot e^\\frac{-R^2}{2}$$\n",
    "esto son dos varibles aleatorias, una con distribucion plana entre $\\theta=(0,2\\pi)$ y $R^2$ una distribucion exponencial $\\frac{1}{2}\\cdot e^\\frac{-R^2}{2}$ donde el $\\frac{1}{2}$ es debido al al jacobiano.\n",
    "formando estas variables a partir de dos variables aleatorias uniformes entre (0 y 1) (ver ejercicio 5 para entender la distribucion exponecial)\n",
    "\n",
    "$${\\displaystyle R^2=-2\\cdot \\ln U_{1}\\,}$$\n",
    "\n",
    "$${\\displaystyle \\theta =2\\pi U_{2}\\,}$$\n",
    "\n",
    "Con esto podemos pasar a las variables $x$ e $y$ que tienen las distribucion gaussiana, recordemos que las variables $x$ e $y$ en funcion de polares son\n",
    "\n",
    "$${\\displaystyle x=R\\cos(\\theta )={\\sqrt {-2\\ln U_{1}}}\\cos(2\\pi U_{2})\\,}$$\n",
    "\n",
    "\n",
    "$${\\displaystyle y=R\\sin(\\theta )={\\sqrt {-2\\ln U_{1}}}\\sin(2\\pi U_{2}).\\,}$$\n",
    "\n",
    "para evitar calcular senos o cosenos, que son costosos para la calculadora, se piensa en un cuadrado de lados 2 y se cambian las variables para generar puntos dentro de un circulo unidad.\n",
    "entonces se define un algoritmo como el siguiente\n",
    "a partir de U1 y U2\n",
    "1- haces $V1=2 \\cdot U1 -1 , V2=2 \\cdot U2 - 1 y S=V1^{2}+V2^{2}$\n",
    "2- si $S>1$ ese valor no sirve\n",
    "\n",
    "3-$${\\displaystyle x={\\sqrt \\frac{-2\\ln {S}}{S}} \\cdot V1} $$\n",
    "\n",
    "\n",
    "$${\\displaystyle y={\\sqrt \\frac{-2\\ln {S}}{S}} \\cdot V2} $$"
   ]
  },
  {
   "cell_type": "code",
   "execution_count": 4,
   "metadata": {},
   "outputs": [
    {
     "data": {
      "image/png": "[encoded data removed]",
      "text/plain": [
       "<Figure size 432x288 with 1 Axes>"
      ]
     },
     "metadata": {
      "needs_background": "light"
     },
     "output_type": "display_data"
    }
   ],
   "source": [
    "N=10000\n",
    "u1=np.random.random(N)\n",
    "u2=np.random.random(N)\n",
    "n1=[]\n",
    "n2=[]\n",
    "Pi=math.pi\n",
    "A=7500\n",
    "for i in range(N):\n",
    "  \n",
    "    n1.append(((-2*math.log(1-u1[i]))**0.5)*math.cos(2*Pi*u2[i]))\n",
    "    n2.append(((-2*math.log(1-u1[i]))**0.5)*math.sin(2*Pi*u2[i]))\n",
    "    \n",
    "plt.hist(n1);\n",
    "plt.hist(n2,color='green');\n",
    "\n",
    "z = np.linspace(-3.0, 3.0)\n",
    "\n",
    "plt.plot(z, A*st.norm.pdf(z, 0, np.sqrt(1)),color='red')\n",
    "plt.show()"
   ]
  },
  {
   "cell_type": "code",
   "execution_count": 5,
   "metadata": {},
   "outputs": [
    {
     "data": {
      "image/png": "[encoded data removed]",
      "text/plain": [
       "<Figure size 432x288 with 1 Axes>"
      ]
     },
     "metadata": {
      "needs_background": "light"
     },
     "output_type": "display_data"
    }
   ],
   "source": [
    "S=[]\n",
    "n3=[]\n",
    "n4=[]\n",
    "V1=[]\n",
    "V2=[]\n",
    "for i in range(N):\n",
    "    V1.append(2*u1[i]-1)\n",
    "    V2.append(2*u2[i]-1)\n",
    "    S.append(V1[i]**2+V2[i]**2)\n",
    "    \n",
    "for i in range(N):\n",
    "      if (S[i]<1):\n",
    "        n3.append((((-2*math.log(S[i]))/S[i])**0.5)*(V1[i]))\n",
    "        n4.append((((-2*math.log(S[i]))/S[i])**0.5)*(V2[i]))\n",
    "\n",
    "\n",
    "plt.hist(n1)\n",
    "plt.hist(n2,color='red');\n",
    "plt.hist(n3,color='yellow');\n",
    "plt.hist(n4,color='green');\n",
    "  \n",
    "    \n"
   ]
  },
  {
   "cell_type": "code",
   "execution_count": 7,
   "metadata": {},
   "outputs": [
    {
     "data": {
      "image/png": "[encoded data removed]",
      "text/plain": [
       "<Figure size 432x288 with 1 Axes>"
      ]
     },
     "metadata": {
      "needs_background": "light"
     },
     "output_type": "display_data"
    }
   ],
   "source": [
    "\n",
    "n1.sort()\n",
    "N=len(n1)\n",
    "Z1=[]\n",
    "for i in range(N):\n",
    "    Z1.append(sp.stats.norm.ppf(i/N))\n",
    "    \n",
    "plt.plot(n1,Z1);\n"
   ]
  },
  {
   "cell_type": "markdown",
   "metadata": {},
   "source": [
    "# Conclusion\n",
    "\n",
    "En este problema se ve como el metodo de Box-Muller nos sirve para generar dos variables aleatorias con distribucion gausseanas, ya que por los otros metodos veiamos que teniamos problemas con algunas hipotesis necesarias. Ademas al comparar con una definicion mas teorica, usando la funcion de scipy de quantile que nos permite obtener el iesimo-quantil (i/N) y permitiendonos construir una curva con los valores discretos obtenidos por el metodo de Box-Muller. Si las dos distribuciones tienen la misma forma tenemos que obtener una recta como se obtiene en el grafico superior.\n",
    "Con respecto a la eficiencia, a la computadora le es costoso calcular senos y cosenos, por lo tanto si sorteo numeros en el circulo unidad, me salteo ese paso y puede hacer el proceso mas eficiente para la computadora"
   ]
  }
 ],
 "metadata": {
  "kernelspec": {
   "display_name": "Python 3",
   "language": "python",
   "name": "python3"
  },
  "language_info": {
   "codemirror_mode": {
    "name": "ipython",
    "version": 3
   },
   "file_extension": ".py",
   "mimetype": "text/x-python",
   "name": "python",
   "nbconvert_exporter": "python",
   "pygments_lexer": "ipython3",
   "version": "3.8.5"
  }
 },
 "nbformat": 4,
 "nbformat_minor": 4
}
