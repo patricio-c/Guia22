{
 "cells": [
  {
   "cell_type": "markdown",
   "metadata": {},
   "source": [
    "# Introduccion\n",
    "\n",
    "En este problema tenemos como objetivo programar una funcion que use el metodo Boostrap, el cual nos permite estimar la varianza a partir de un conjunto de variables aleatorias. El metodo es sensillo, tenemos una lista de N variables, y con ella calculamos un cierto estimador. Ahora nosotros queremos estimarle una varianza de ese estimador y para ello tomamos una lista de n elementos elegiendo (se pueden repetir) de manera aleatorias elementos de la lista original y calcularle el mismo estimador. A partir de esto, tendremos N estimadores de este remuestreo. Con ello se logra conseguir una estimacion de la varianza de este estimador. \n",
    "Para ello, se introduce entonces una funcion que se come una lista de N variables, una funcion que calcula un cierto estimador (la media por ejemplo) y se hacen M remuestreos.Esta devuelve una lista de M estimadores y con ella se calcula la varianza. Posterior a esto, se hace una demostracion a partir de una lista de numeros con distribucion uniforme en el intervalo (0,1) cuya media teorica es 0.5. Se usa el estimador de la media y se le asigna la desviacion dada por la funcion Boostrap. Se muestras los valores obtenidos despues de (100 remuestreos y se da el estimador con la desviacion dada por la funcion boostrap)"
   ]
  },
  {
   "cell_type": "code",
   "execution_count": 1,
   "metadata": {},
   "outputs": [],
   "source": [
    "def Boostrap(lista,g,M,alpha):\n",
    "    import numpy as np\n",
    "    n=len(lista)\n",
    "    estimador=[]\n",
    "    for j in range(M):\n",
    "        lista2=[]\n",
    "        for i in range(n):\n",
    "            x=np.random.choice(n)\n",
    "            lista2.append(lista[x])\n",
    "        estimador.append(g(lista2))\n",
    "    #---------------------------- desv estad------------------------\n",
    "    media=0\n",
    "    for i in range(M):\n",
    "        media=estimador[i]+media\n",
    "    media=media/M\n",
    "    \n",
    "    desv=0\n",
    "    for i in range(M):\n",
    "        desv=(estimador[i]-media)**2+desv \n",
    "    desv=((desv/(M-1)**0.5))\n",
    "    #---------------------------interv confia-----------------\n",
    "    estimador.sort()\n",
    "    S=0\n",
    "    #busco la posicion de la mediana, o su intervalo\n",
    "    porc=1-0.01*alpha\n",
    "    #tomo el valor menor a alpha sobre dos\n",
    "    from math import floor\n",
    "    VAL=floor(M*0.5*porc)\n",
    "    bot=estimador[VAL]\n",
    "    up=estimador[M-VAL-1]\n",
    "    \n",
    "    print('')\n",
    "    print('El intervalo de confianza es (' ,bot ,',',up ,')','para un nivel de confianza del ',alpha,'%');  \n",
    "    \n",
    "    return(estimador,desv)  \n"
   ]
  },
  {
   "cell_type": "markdown",
   "metadata": {},
   "source": [
    "### Ejemplo:"
   ]
  },
  {
   "cell_type": "code",
   "execution_count": 2,
   "metadata": {},
   "outputs": [],
   "source": [
    "def g(lista):\n",
    "    N=len(lista)\n",
    "    lista=list(lista)\n",
    "    media=0\n",
    "    for i in range(len(lista)):\n",
    "        media=lista[i]+media\n",
    "    media=media/N\n",
    "    return(media)"
   ]
  },
  {
   "cell_type": "code",
   "execution_count": 3,
   "metadata": {},
   "outputs": [
    {
     "name": "stdout",
     "output_type": "stream",
     "text": [
      "\n",
      "El intervalo de confianza es ( 0.463380590812927 , 0.5186601952476642 ) para un nivel de confianza del  100 %\n",
      "\n",
      "el valor medio es ( 0.48953183761899616 ± 0.0026428678593399006 )\n",
      "\n"
     ]
    },
    {
     "data": {
      "image/png": "[encoded data removed]",
      "text/plain": [
       "<Figure size 432x288 with 1 Axes>"
      ]
     },
     "metadata": {
      "needs_background": "light"
     },
     "output_type": "display_data"
    }
   ],
   "source": [
    "import numpy as np\n",
    "lista=np.random.random(1000)\n",
    "med=g(lista)\n",
    "M=1000\n",
    "L,sigma=Boostrap(lista,g,M,100)\n",
    "import matplotlib.pyplot as plt\n",
    "plt.hist(L);\n",
    "\n",
    "print('')\n",
    "print ('el valor medio es (', med , '±', sigma, ')');\n",
    "print('')\n"
   ]
  },
  {
   "cell_type": "code",
   "execution_count": 4,
   "metadata": {},
   "outputs": [
    {
     "data": {
      "text/plain": [
       "(0.463380590812927, 0.5186601952476642)"
      ]
     },
     "execution_count": 4,
     "metadata": {},
     "output_type": "execute_result"
    }
   ],
   "source": [
    "min(L),max(L)"
   ]
  },
  {
   "cell_type": "markdown",
   "metadata": {},
   "source": [
    "# Conclusion\n",
    "\n",
    "Este metodo sirve para estimar la desviacion de un estimador dada una muestra y es interesante porque nos permite una forma simple de resolver la asignacion de un error al no estar tan claro estadisticamente que error asignar. Ademas esta funcion estima un intervalo de confianza si la distribucion es desconocida. En el ejemplo se eligio el caso extremo para ver si respondia bien la funcion, dando el intervalo total. Como se puede evidenciar debajo, este intervalo es correcto. luego se hace para el caso de $\\alpha = 66$ % "
   ]
  }
 ],
 "metadata": {
  "kernelspec": {
   "display_name": "Python 3",
   "language": "python",
   "name": "python3"
  },
  "language_info": {
   "codemirror_mode": {
    "name": "ipython",
    "version": 3
   },
   "file_extension": ".py",
   "mimetype": "text/x-python",
   "name": "python",
   "nbconvert_exporter": "python",
   "pygments_lexer": "ipython3",
   "version": "3.8.5"
  }
 },
 "nbformat": 4,
 "nbformat_minor": 4
}
