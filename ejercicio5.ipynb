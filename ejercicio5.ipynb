{
 "cells": [
  {
   "cell_type": "code",
   "execution_count": 1,
   "metadata": {},
   "outputs": [],
   "source": [
    "import math\n",
    "import numpy as np\n",
    "import matplotlib.pyplot as plt"
   ]
  },
  {
   "cell_type": "markdown",
   "metadata": {},
   "source": [
    "# Introduccion\n",
    "En este ejercicio se trata de desarrollar mediante el metodo de la funcion inversa una distribucion exponencial con $\\lambda=\\frac{5}{h}$ en un tiempo maximo de $T=3h$ . Para ello se procede a partir de la funcion densidad de probabilidad $f(x)=A\\cdot e^{-x\\cdot A}$ entonces su integral es \n",
    "\n",
    "$${\\displaystyle \\int_{0}^{X} A\\cdot e^{-x\\cdot A}\\,{\\text{d}}x}\n",
    "=\\left. -e^{-x\\cdot A} \\right|_0^X = - ( e^{ -X\\cdot A}-e^{-0 \\cdot A}) \n",
    "= 1 - e^{-X \\cdot A}$$\n",
    "\n",
    "\n",
    "\n",
    "$${\\displaystyle F(x)=P(X\\leq x)=\\left\\{{\\begin{matrix}0&{\\text{para }}x<0\\\\1-e^{-X \\cdot A}&{\\text{para }}x\\geq 0\\end{matrix}}\\right.}$$\n",
    "\n",
    "\n",
    "Podemos entonces invertir. \n",
    "\n",
    "$$z = 1 - e^{-X \\cdot A}$$\n",
    "$$1-z= e^{-X \\cdot A} $$\n",
    "\n",
    "$$-\\frac{ln(1-z)}{A} = X $$\n",
    "\n",
    "como $z$ es una variable aleatoria $z\\in(0,1)$  entonces $(1-z)\\in(0,1)$ y podemos tomar una variable aleatoria $U=1-z$ con distribucion plana de tal manera que quede\n",
    "\n",
    "$$-\\frac{ln(U)}{A} = X $$\n",
    "\n",
    "posteriormente, sumamos los saltos hasta que llega  a 3 horas, dando asi una media de $15=\\frac{5}{h} \\cdot 3 h$ y si sortemaos varias veces obtenemos la distribucion de poisson.\n"
   ]
  },
  {
   "cell_type": "code",
   "execution_count": 2,
   "metadata": {},
   "outputs": [],
   "source": [
    "def procesopoiss(N,lambdaa,T):\n",
    "    x=np.random.random(N)\n",
    "    y=[]\n",
    "    for j in range(N):\n",
    "        y.append(-math.log(1-x[j])*(1/lambdaa))\n",
    "    \n",
    "    suma=0\n",
    "    \n",
    "    for i in range(N):\n",
    "        if (suma>T):\n",
    "            suma=suma-y[i-1]\n",
    "            A=i-1 \n",
    "            break\n",
    "        else:\n",
    "            suma=y[i]+suma\n",
    "    return (suma,A)"
   ]
  },
  {
   "cell_type": "code",
   "execution_count": 22,
   "metadata": {},
   "outputs": [],
   "source": [
    "lista2=[]\n",
    "M=1000\n",
    "l1=[]\n",
    "l2=[]\n",
    "for i in range (M):\n",
    "    lista2,A=procesopoiss(1000,5,3)\n",
    "    l1.append(A)\n",
    "    l2.append(lista2)"
   ]
  },
  {
   "cell_type": "code",
   "execution_count": 24,
   "metadata": {},
   "outputs": [
    {
     "data": {
      "image/png": "[encoded data removed]",
      "text/plain": [
       "<Figure size 432x288 with 1 Axes>"
      ]
     },
     "metadata": {
      "needs_background": "light"
     },
     "output_type": "display_data"
    }
   ],
   "source": [
    "\n",
    "\n",
    "# comparacion teorica\n",
    "\n",
    "# Graficando Poisson\n",
    "pois=[]\n",
    "A=3000\n",
    "for i in range(40):\n",
    "    x=A*((15**i)*math.exp(-15)/math.factorial(i))\n",
    "    pois.append(x)\n",
    "\n",
    "plt.plot(pois);\n",
    "plt.hist(l1,bins=8);\n",
    "plt.show()"
   ]
  },
  {
   "cell_type": "markdown",
   "metadata": {},
   "source": [
    "# Conclusion\n",
    "\n",
    "Vemos como el proceso de poisson simulado por los pasos de una variable con distribucion exponencial nos permiten ver como aleatoriamente la media deberia estar en 15,(efectivamente se ve eso) pero no se recibe siempre el valor de 15. La distribucion sigue Poisson teorica como se puede ver en la comparacion teorica."
   ]
  }
 ],
 "metadata": {
  "kernelspec": {
   "display_name": "Python 3",
   "language": "python",
   "name": "python3"
  },
  "language_info": {
   "codemirror_mode": {
    "name": "ipython",
    "version": 3
   },
   "file_extension": ".py",
   "mimetype": "text/x-python",
   "name": "python",
   "nbconvert_exporter": "python",
   "pygments_lexer": "ipython3",
   "version": "3.8.5"
  }
 },
 "nbformat": 4,
 "nbformat_minor": 4
}
