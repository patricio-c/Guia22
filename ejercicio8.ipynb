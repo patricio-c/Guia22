{
 "cells": [
  {
   "cell_type": "markdown",
   "metadata": {},
   "source": [
    "Aguja de Buffon"
   ]
  },
  {
   "cell_type": "code",
   "execution_count": 1,
   "metadata": {},
   "outputs": [],
   "source": [
    "import math\n",
    "import numpy as np\n",
    "import matplotlib.pyplot as plt"
   ]
  },
  {
   "cell_type": "markdown",
   "metadata": {},
   "source": [
    "\n",
    "\n",
    "# Introduccion\n",
    "\n",
    "\n",
    "Para comenzar, este metodo es un tipo de implementacion del metodo de Monte carlos donde se rellena un area con una distribucion uniforme y se cuentan cuantos puntos estan en una cierta region o cumplen una cierta propiedad.Para ello, simulo el experimento de  Buffon, creando a partir de numeros random las agujas. Estas las simulamos con dos variables aleatorias, la variable x es el centro de la agujita  $x \\in (0,\\frac{d}{2})$ (supongo que el renglon com ancho d) y la variable $\\theta$ se define a partir de la perpendicular al renglon. $\\theta \\in (0,\\frac{\\pi}{2})$\n",
    "para encontrar la distribucion de probabilidad de cada una, como son variables uniformes, e independientes la funcion densidad de probabilidad es la multiplicacion de la distribucion densidad de probabilidad de cada una. En el caso de la variables aleatoria $x$, la funcion es $f(x)=\\frac{2}{d}$ y para $g(\\theta)=\\frac{2}{\\pi}$. La funcion distribucion de probabilidad de ambas es: $F(x,\\theta)= \\frac{4}{d\\cdot \\pi}$.\n",
    "Si ahora queremos saber cual es la probabilidad que toque el renglon. tenemos que usar trigonometria, dejo libre $\\theta$. Entonces si L es el largo de la aguja (no se distingue la cabecilla de la aguja, es simetrica desde su centro por eso el $\\theta \\in (0,\\frac{\\pi}{2}$) es la condicion que dado un cierto $\\theta$ que x es el que se necesita para que toque un renglon, esto es $x \\in (0, \\frac{L}{2} \\cdot sin(\\theta) ) $ defino la funcion G de probabilidad que toque una raya $==>$\n",
    "\n",
    "$$G_{toca} = \\int_{0}^{\\frac{\\pi}{2}} \\int_{0}^{{\\frac{L}{2}} \\cdot sin(\\theta)} \\frac{4}{d \\cdot \\pi}\\,{\\text{d}}x \\,{\\text{d}}\\theta \n",
    "=\\left. \\frac{4 \\cdot x}{d \\cdot \\pi}  \\right |_{0}^{{\\frac{L}{2}} \\cdot sin(\\theta)} \\,{\\text{d}}\\theta \n",
    "= \\int_{0}^{\\frac{\\pi}{2}} \\frac{4 \\cdot {{\\frac{L}{2}} \\cdot sin(\\theta)}}{d \\cdot \\pi} \\,{\\text{d}}\\theta \n",
    "= \\left. \\frac{-2 \\cdot {L \\cdot cos(\\theta)}}{d \\cdot \\pi} \\right|_{0}^{{\\frac{\\pi}{2}}} \n",
    "= \\frac{-2 \\cdot {L \\cdot [cos(\\frac{\\pi}{2})-cos(0)]}}{d \\cdot \\pi} $$\n",
    "\n",
    "$$= \\frac{-2 \\cdot {L \\cdot [-1]}}{d \\cdot \\pi}= \\frac{2 \\cdot {L}}{d \\cdot \\pi}$$\n",
    "\n",
    "si $L=d$ entonces\n",
    "\n",
    "$$G_{toca}=\\frac{2}{\\pi}$$\n",
    "\n",
    "Si hacemos la siguiente cuenta, donde ${T_{total}}$ es la cantidad total de agujas sobre la cantidad total de agujas que tocan $N_{toca}$ (igual a $G$) \n",
    "\n",
    "$$\\frac{T_{total}}{G_{toca}}=\\frac{N_{total}}{N_{toca}}=\\frac{\\pi}{2}$$\n",
    "pasando el 2 al otro miembro nos queda una manera de estimar el valor de $\\pi$ \n",
    "$$ 2 \\cdot \\frac{N_{total}}{N_{toca}} = \\pi$$"
   ]
  },
  {
   "cell_type": "code",
   "execution_count": 2,
   "metadata": {},
   "outputs": [],
   "source": [
    "def agujas(N,d):\n",
    "    theta=np.random.random(N)*(math.pi/2)\n",
    "    x=np.random.random(N)*(1/2*d)\n",
    "    return(x,theta)\n"
   ]
  },
  {
   "cell_type": "code",
   "execution_count": 3,
   "metadata": {},
   "outputs": [],
   "source": [
    "x,th=agujas(100000,1)"
   ]
  },
  {
   "cell_type": "code",
   "execution_count": 4,
   "metadata": {},
   "outputs": [
    {
     "data": {
      "image/png": "[encoded data removed]",
      "text/plain": [
       "<Figure size 432x288 with 1 Axes>"
      ]
     },
     "metadata": {
      "needs_background": "light"
     },
     "output_type": "display_data"
    }
   ],
   "source": [
    "def toque(x,th,L):\n",
    "    #largo de la aguja L, la mitad es L/2, una ves que formo el triangulo para theta mayor a eso seguro toca el renglon. th0 va de 0 a pi\n",
    "    experimento=[]\n",
    "    j=0\n",
    "    for i in range(len(x)):\n",
    "        th0=math.asin(x[i]*2/L)\n",
    "        if (th[i]>=th0):\n",
    "            experimento.append(1)\n",
    "            j=j+1\n",
    "        else:\n",
    "            experimento.append(0)\n",
    "    return(experimento,j)\n",
    "\n",
    "A,J=toque(x,th,1)\n",
    "PII=(len(A)*2)/J\n",
    "\n",
    "plt.hist(A);"
   ]
  },
  {
   "cell_type": "code",
   "execution_count": 5,
   "metadata": {},
   "outputs": [
    {
     "data": {
      "text/plain": [
       "3.1432208584136165"
      ]
     },
     "execution_count": 5,
     "metadata": {},
     "output_type": "execute_result"
    }
   ],
   "source": [
    "PII"
   ]
  },
  {
   "cell_type": "markdown",
   "metadata": {},
   "source": [
    "# Conclusion\n",
    "\n",
    "Este tipo de metodos son conocido como Monte Carlos y permite obtener estimaciones de la probabilidad a partir de llenar una caja de puntos y ver cuantos caen dentro de un area de interes y cuantos afuera. En este caso, lleno la hoja rayada de agujas y puedo ver cuantas quedan tocando una raya. se encuentra una muy buena estimacion del numero $\\pi$ hasta dos cifras decimales correctas."
   ]
  }
 ],
 "metadata": {
  "kernelspec": {
   "display_name": "Python 3",
   "language": "python",
   "name": "python3"
  },
  "language_info": {
   "codemirror_mode": {
    "name": "ipython",
    "version": 3
   },
   "file_extension": ".py",
   "mimetype": "text/x-python",
   "name": "python",
   "nbconvert_exporter": "python",
   "pygments_lexer": "ipython3",
   "version": "3.8.5"
  }
 },
 "nbformat": 4,
 "nbformat_minor": 4
}
