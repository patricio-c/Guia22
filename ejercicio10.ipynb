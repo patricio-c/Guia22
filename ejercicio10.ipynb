{
 "cells": [
  {
   "cell_type": "code",
   "execution_count": 3,
   "metadata": {},
   "outputs": [],
   "source": []
  },
  {
   "cell_type": "code",
   "execution_count": 31,
   "metadata": {},
   "outputs": [
    {
     "data": {
      "text/plain": [
       "array([0.00000000e+00, 0.00000000e+00, 0.00000000e+00, 0.00000000e+00,\n",
       "       0.00000000e+00, 0.00000000e+00, 0.00000000e+00, 0.00000000e+00,\n",
       "       0.00000000e+00, 0.00000000e+00, 6.04661760e-03, 4.03107840e-02,\n",
       "       1.20932352e-01, 2.14990848e-01, 2.50822656e-01, 2.00658125e-01,\n",
       "       1.11476736e-01, 4.24673280e-02, 1.06168320e-02, 1.57286400e-03,\n",
       "       1.04857600e-04, 0.00000000e+00, 0.00000000e+00, 0.00000000e+00,\n",
       "       0.00000000e+00, 0.00000000e+00, 0.00000000e+00, 0.00000000e+00,\n",
       "       0.00000000e+00, 0.00000000e+00, 0.00000000e+00, 0.00000000e+00,\n",
       "       0.00000000e+00, 0.00000000e+00, 0.00000000e+00, 0.00000000e+00,\n",
       "       0.00000000e+00, 0.00000000e+00, 0.00000000e+00, 0.00000000e+00,\n",
       "       0.00000000e+00, 0.00000000e+00, 0.00000000e+00, 0.00000000e+00,\n",
       "       0.00000000e+00, 0.00000000e+00, 0.00000000e+00, 0.00000000e+00,\n",
       "       0.00000000e+00, 0.00000000e+00, 0.00000000e+00, 0.00000000e+00,\n",
       "       0.00000000e+00, 0.00000000e+00, 0.00000000e+00, 0.00000000e+00,\n",
       "       0.00000000e+00, 0.00000000e+00, 0.00000000e+00, 0.00000000e+00,\n",
       "       0.00000000e+00, 0.00000000e+00, 0.00000000e+00, 0.00000000e+00,\n",
       "       0.00000000e+00, 0.00000000e+00, 0.00000000e+00, 0.00000000e+00,\n",
       "       0.00000000e+00, 0.00000000e+00, 0.00000000e+00, 0.00000000e+00,\n",
       "       0.00000000e+00, 0.00000000e+00, 0.00000000e+00, 0.00000000e+00,\n",
       "       0.00000000e+00, 0.00000000e+00, 0.00000000e+00, 0.00000000e+00,\n",
       "       0.00000000e+00, 0.00000000e+00, 0.00000000e+00, 0.00000000e+00,\n",
       "       0.00000000e+00, 0.00000000e+00, 0.00000000e+00, 0.00000000e+00,\n",
       "       0.00000000e+00, 0.00000000e+00, 0.00000000e+00, 0.00000000e+00,\n",
       "       0.00000000e+00, 0.00000000e+00, 0.00000000e+00, 0.00000000e+00,\n",
       "       0.00000000e+00, 0.00000000e+00, 0.00000000e+00, 0.00000000e+00])"
      ]
     },
     "execution_count": 31,
     "metadata": {},
     "output_type": "execute_result"
    }
   ],
   "source": [
    "def chicuadrado(H1,):\n",
    "    import math\n",
    "    import numpy as np\n",
    "    import scipy as sp\n",
    "    import scipy.stats as st\n",
    "    \n",
    "    #--------defino la variable binomial y 100 tiros con sus frecuencias, lo guardo en la lista l1 a la frec y l2 a la etiqueta\n",
    "\n",
    "    A=st.binom.rvs(10, 0.4, loc=0, size=100)\n",
    "    A.sort()\n",
    "    l1=[]\n",
    "    N=len(A)\n",
    "    l2=[]\n",
    "    B=0\n",
    "    j=0\n",
    "    \n",
    "    for i in range(N):\n",
    "        if (A[j]==A[i]):\n",
    "            if ((N-1)==i):\n",
    "                l1.append((i-j+1)/N)\n",
    "                l2.append(A[i])\n",
    "                \n",
    "\n",
    "        else:\n",
    "            X=(i-j)\n",
    "            l1.append(X/N)\n",
    "            j=i\n",
    "            l2.append(A[i-1])\n",
    "\n",
    "    #----------\n",
    "    CHI=0\n",
    "    for i in range(len(H1)):\n",
    "        CHI=(H1[i]-l1[i])/l1[i]+CHI\n",
    "        \n",
    "#Realice una prueba de hipotesis completa para decidir si los datos estan en acuerdo con el modelo.\n",
    "#(d) Calcule el valor-p de la prueba.\n",
    "#(e) Simule muestras de 100 observaciones de una V.A. N(μ, σ), con σ=2.5 y μ que varıe entre 2 y 7. Estudie\n",
    "#como varıa el valor-p y determine si en algun rango de μ se puede “confundir” el modelo.\n",
    "#(f) Simule una muestra de 10000 realizaciones de una V.A. con f(x) ∼ B(n = 1000, p = 0.4) y repita el punto\n",
    "#anterior.\n"
   ]
  },
  {
   "cell_type": "code",
   "execution_count": 23,
   "metadata": {},
   "outputs": [
    {
     "ename": "NameError",
     "evalue": "name 'binom' is not defined",
     "output_type": "error",
     "traceback": [
      "\u001b[0;31m---------------------------------------------------------------------------\u001b[0m",
      "\u001b[0;31mNameError\u001b[0m                                 Traceback (most recent call last)",
      "\u001b[0;32m<ipython-input-23-0f8e804a7960>\u001b[0m in \u001b[0;36m<module>\u001b[0;34m\u001b[0m\n\u001b[0;32m----> 1\u001b[0;31m \u001b[0mr\u001b[0m \u001b[0;34m=\u001b[0m \u001b[0mbinom\u001b[0m\u001b[0;34m.\u001b[0m\u001b[0mrvs\u001b[0m\u001b[0;34m(\u001b[0m\u001b[0mn\u001b[0m\u001b[0;34m,\u001b[0m \u001b[0mp\u001b[0m\u001b[0;34m,\u001b[0m \u001b[0msize\u001b[0m\u001b[0;34m=\u001b[0m\u001b[0;36m1000\u001b[0m\u001b[0;34m)\u001b[0m\u001b[0;34m\u001b[0m\u001b[0;34m\u001b[0m\u001b[0m\n\u001b[0m",
      "\u001b[0;31mNameError\u001b[0m: name 'binom' is not defined"
     ]
    }
   ],
   "source": [
    "r = binom.rvs(n, p, size=1000)"
   ]
  },
  {
   "cell_type": "code",
   "execution_count": null,
   "metadata": {},
   "outputs": [],
   "source": [
    "In [33]: plt.vlines(k, 0, pk) # El segundo argumento da el extremo inferior de las líneas\n",
    "Out[33]:\n",
    "In [34]: plt.plot(k, pk, ‘o’) # Añadimos puntos en los extremos\n",
    "Out[34]: []\n",
    "In [35]: plt.show()\n",
    "In [36]: plt.bar(k – 0.5, _81, width=1.0) # Se resta 0.5 para que las barras estén centradas\n",
    "Out[36]:\n",
    "In [37]: plt.show()"
   ]
  },
  {
   "cell_type": "code",
   "execution_count": 38,
   "metadata": {},
   "outputs": [],
   "source": [
    "\t\n",
    "    "
   ]
  },
  {
   "cell_type": "code",
   "execution_count": 44,
   "metadata": {},
   "outputs": [
    {
     "data": {
      "text/plain": [
       "[<matplotlib.lines.Line2D at 0x7f18d0c2e400>]"
      ]
     },
     "execution_count": 44,
     "metadata": {},
     "output_type": "execute_result"
    },
    {
     "data": {
      "image/png": "[encoded data removed]",
      "text/plain": [
       "<Figure size 432x288 with 1 Axes>"
      ]
     },
     "metadata": {
      "needs_background": "light"
     },
     "output_type": "display_data"
    }
   ],
   "source": [
    "import numpy as np\n",
    "import matplotlib.pyplot as plt\n",
    "x=np.arange(100)\n",
    "plt.plot(x,A)"
   ]
  },
  {
   "cell_type": "code",
   "execution_count": 45,
   "metadata": {},
   "outputs": [
    {
     "data": {
      "text/plain": [
       "array([3, 7, 4, 2, 3, 1, 3, 2, 7, 2, 3, 4, 3, 2, 4, 4, 3, 5, 3, 5, 7, 3,\n",
       "       4, 4, 5, 3, 4, 3, 3, 4, 3, 5, 6, 5, 3, 1, 4, 3, 3, 3, 6, 5, 4, 4,\n",
       "       7, 5, 4, 4, 4, 3, 3, 4, 4, 5, 1, 6, 5, 6, 6, 5, 6, 4, 4, 3, 4, 4,\n",
       "       4, 7, 3, 4, 4, 5, 2, 4, 3, 2, 2, 1, 5, 3, 4, 3, 3, 2, 7, 1, 6, 4,\n",
       "       3, 3, 4, 3, 2, 2, 5, 2, 2, 1, 5, 3])"
      ]
     },
     "execution_count": 45,
     "metadata": {},
     "output_type": "execute_result"
    }
   ],
   "source": [
    "A"
   ]
  },
  {
   "cell_type": "code",
   "execution_count": 48,
   "metadata": {},
   "outputs": [],
   "source": []
  },
  {
   "cell_type": "code",
   "execution_count": 145,
   "metadata": {},
   "outputs": [
    {
     "data": {
      "text/plain": [
       "array([2, 3, 3, 3, 4, 4, 4, 5, 6, 6])"
      ]
     },
     "execution_count": 145,
     "metadata": {},
     "output_type": "execute_result"
    }
   ],
   "source": [
    "\n",
    "A"
   ]
  },
  {
   "cell_type": "code",
   "execution_count": 149,
   "metadata": {},
   "outputs": [],
   "source": [
    "\n",
    "      "
   ]
  },
  {
   "cell_type": "code",
   "execution_count": 150,
   "metadata": {},
   "outputs": [
    {
     "data": {
      "text/plain": [
       "[0.2, 0.1, 0.3, 0.2, 0.1]"
      ]
     },
     "execution_count": 150,
     "metadata": {},
     "output_type": "execute_result"
    }
   ],
   "source": [
    "l1"
   ]
  },
  {
   "cell_type": "code",
   "execution_count": 151,
   "metadata": {},
   "outputs": [
    {
     "data": {
      "text/plain": [
       "[2, 3, 4, 5, 6]"
      ]
     },
     "execution_count": 151,
     "metadata": {},
     "output_type": "execute_result"
    }
   ],
   "source": [
    "l2"
   ]
  },
  {
   "cell_type": "code",
   "execution_count": null,
   "metadata": {},
   "outputs": [],
   "source": []
  }
 ],
 "metadata": {
  "kernelspec": {
   "display_name": "Python 3",
   "language": "python",
   "name": "python3"
  },
  "language_info": {
   "codemirror_mode": {
    "name": "ipython",
    "version": 3
   },
   "file_extension": ".py",
   "mimetype": "text/x-python",
   "name": "python",
   "nbconvert_exporter": "python",
   "pygments_lexer": "ipython3",
   "version": "3.8.5"
  }
 },
 "nbformat": 4,
 "nbformat_minor": 4
}
