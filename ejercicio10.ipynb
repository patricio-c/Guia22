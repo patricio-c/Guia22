{
 "cells": [
  {
   "cell_type": "markdown",
   "metadata": {},
   "source": [
    "# Introduccion\n",
    "\n",
    "La prueba chi-cuadrado tienen el objetivo de decidir si puede aceptarse la hipótesis de que una muestra dada procede de una población con una distribución de probabilidad totalmente especificada en la hipótesis nula. En este caso definiremos el test de chi cuadrado mediante una distribucion binomial con 10 experimentos de bernulli donde la probabilidad de exito es del 40%. Ademas se eligira que los resultados esten dentro de un intervalo de confianza del 95%."
   ]
  },
  {
   "cell_type": "code",
   "execution_count": 2,
   "metadata": {},
   "outputs": [],
   "source": [
    "def chicuadrado(H1):\n",
    "\n",
    "    #uso el nivel de significancia de alpha = 95%\n",
    "    \n",
    "    import scipy.stats as st\n",
    "\n",
    "    #----------\n",
    "    LA=listaalpha=(0,0.1,0.35,0.71,1.15,1.64,2.17,2.73,3.33,3.94,4.57,5.23)\n",
    "    \n",
    "    CHI=0\n",
    "    for i in range(11):\n",
    "        CHI=(((H1[i]-st.binom.pmf(i,10,0.4))**2)/st.binom.pmf(i,10,0.4))+CHI\n",
    "\n",
    "        \n",
    "    #--------defino la hipotesis nula\n",
    "    print('segun el test CHI cuadrado:')\n",
    "    print('')\n",
    "    if (CHI<LA[9]):#10 grados de libertad\n",
    "        \n",
    "        print('la hipotesis nula es correcta, la muestra procede de una poblacion con distribucion Binomial(n=10,p=0,4)')\n",
    "        print('')\n",
    "        \n",
    "    else:\n",
    "        print('se rechaza la hipotesis nula en favor a la hipotesis alternativa, la muestra no procede de una poblacion con distribucion Binomial(n=10,p=0,4)')\n",
    "        print('')\n",
    "\n",
    "    #-------valorp\n",
    "    \n",
    "#    print('segun el valor P')\n",
    "#    print('')\n",
    "#    print('para un alpha de 95%, alpha sobre dos es 0.45, entonces: ')\n",
    "#    print('')\n",
    "    \n",
    "#    valorp=sp.stats.chusquare(H1)\n",
    "\n",
    "#    if (abs(valorp)<(0.05/2)):\n",
    "        \n",
    "#        print('la hipotesis nula es correcta, la muestra procede de una poblacion con distribucion Binomial(n=10,p=0,4)')\n",
    "#        print('')\n",
    "        \n",
    "#    else:\n",
    "#        print('se rechaza la hipotesis nula en favor a la hipotesis alternativa, la muestra no procede de una poblacion con distribucion Binomial(n=10,p=0,4)')\n",
    "#        print('')\n",
    "\n",
    "\n",
    "    \n",
    "    return(print('CHI =',CHI))   "
   ]
  },
  {
   "cell_type": "code",
   "execution_count": 3,
   "metadata": {},
   "outputs": [
    {
     "name": "stdout",
     "output_type": "stream",
     "text": [
      "segun el test CHI cuadrado:\n",
      "\n",
      "la hipotesis nula es correcta, la muestra procede de una poblacion con distribucion Binomial(n=10,p=0,4)\n",
      "\n",
      "CHI = 0.050382475107121974\n"
     ]
    }
   ],
   "source": [
    "import scipy.stats as st\n",
    "import numpy as np\n",
    "#a) \n",
    "    #--------defino la variable binomial y 100 tiros con sus frecuencias, lo guardo en la lista l1 a la frec y l2 a la etiqueta\n",
    "\n",
    "    #--------ORDENO LOS VALORES\n",
    "\n",
    "\n",
    "A=st.binom.rvs(10, 0.4, loc=0, size=100)\n",
    "A.sort()\n",
    "A=list(A)\n",
    "l1=[]\n",
    "for i in range(11):\n",
    "    l1.append((A.count(i))/100)\n",
    "    \n",
    "chicuadrado(l1) \n",
    "\n"
   ]
  },
  {
   "cell_type": "code",
   "execution_count": 4,
   "metadata": {},
   "outputs": [
    {
     "name": "stdout",
     "output_type": "stream",
     "text": [
      "mu= 2.0\n",
      "segun el test CHI cuadrado:\n",
      "\n",
      "se rechaza la hipotesis nula en favor a la hipotesis alternativa, la muestra no procede de una poblacion con distribucion Binomial(n=10,p=0,4)\n",
      "\n",
      "CHI = 7.063283664045653\n",
      "mu= 2.5555555555555554\n",
      "segun el test CHI cuadrado:\n",
      "\n",
      "se rechaza la hipotesis nula en favor a la hipotesis alternativa, la muestra no procede de una poblacion con distribucion Binomial(n=10,p=0,4)\n",
      "\n",
      "CHI = 5.152274176995976\n",
      "mu= 3.111111111111111\n",
      "segun el test CHI cuadrado:\n",
      "\n",
      "la hipotesis nula es correcta, la muestra procede de una poblacion con distribucion Binomial(n=10,p=0,4)\n",
      "\n",
      "CHI = 3.263422903253349\n",
      "mu= 3.666666666666667\n",
      "segun el test CHI cuadrado:\n",
      "\n",
      "la hipotesis nula es correcta, la muestra procede de una poblacion con distribucion Binomial(n=10,p=0,4)\n",
      "\n",
      "CHI = 2.1095230381879295\n",
      "mu= 4.222222222222222\n",
      "segun el test CHI cuadrado:\n",
      "\n",
      "la hipotesis nula es correcta, la muestra procede de una poblacion con distribucion Binomial(n=10,p=0,4)\n",
      "\n",
      "CHI = 0.6359479787630329\n",
      "mu= 4.777777777777778\n",
      "segun el test CHI cuadrado:\n",
      "\n",
      "la hipotesis nula es correcta, la muestra procede de una poblacion con distribucion Binomial(n=10,p=0,4)\n",
      "\n",
      "CHI = 0.5030351215741871\n",
      "mu= 5.333333333333334\n",
      "segun el test CHI cuadrado:\n",
      "\n",
      "se rechaza la hipotesis nula en favor a la hipotesis alternativa, la muestra no procede de una poblacion con distribucion Binomial(n=10,p=0,4)\n",
      "\n",
      "CHI = 7.283592775944129\n",
      "mu= 5.888888888888889\n",
      "segun el test CHI cuadrado:\n",
      "\n",
      "se rechaza la hipotesis nula en favor a la hipotesis alternativa, la muestra no procede de una poblacion con distribucion Binomial(n=10,p=0,4)\n",
      "\n",
      "CHI = 10.88922049404005\n",
      "mu= 6.444444444444445\n",
      "segun el test CHI cuadrado:\n",
      "\n",
      "se rechaza la hipotesis nula en favor a la hipotesis alternativa, la muestra no procede de una poblacion con distribucion Binomial(n=10,p=0,4)\n",
      "\n",
      "CHI = 11.382734334884013\n",
      "mu= 7.0\n",
      "segun el test CHI cuadrado:\n",
      "\n",
      "se rechaza la hipotesis nula en favor a la hipotesis alternativa, la muestra no procede de una poblacion con distribucion Binomial(n=10,p=0,4)\n",
      "\n",
      "CHI = 18.98927211074169\n"
     ]
    }
   ],
   "source": [
    "\n",
    "\n",
    "N=10\n",
    "x=np.linspace(2,7,num=N)\n",
    "\n",
    "for i in range(N):\n",
    "    #def gaussiana, la bineo de 0 a 10, elimino los datos sobrantes y calculo las frec\n",
    "    print('mu=', x[i])\n",
    "    \n",
    "    gauss=st.norm.rvs(x[i], 2.5, size=100)\n",
    "    l2=[] \n",
    "    for i in range(100):\n",
    "        for j in range(100):\n",
    "            if (i+1>gauss[j]>=i):\n",
    "                l2.append(i)\n",
    " \n",
    "    for i in range(11-max(l2)):\n",
    "        if (l2[i]>10):\n",
    "            l2.remove(i)\n",
    "    \n",
    "    NN=len(l2)\n",
    "    L3=[]\n",
    "    \n",
    "    for i in range(11):\n",
    "        \n",
    "        L3.append((l2.count(i)/NN))\n",
    "    \n",
    "    chicuadrado(L3)\n",
    "    "
   ]
  },
  {
   "cell_type": "code",
   "execution_count": 5,
   "metadata": {},
   "outputs": [
    {
     "name": "stdout",
     "output_type": "stream",
     "text": [
      "segun el test CHI cuadrado:\n",
      "\n",
      "la hipotesis nula es correcta, la muestra procede de una poblacion con distribucion Binomial(n=10,p=0,4)\n",
      "\n",
      "CHI = 0.14772911904275635\n"
     ]
    }
   ],
   "source": [
    "B=st.binom.rvs(1000, 0.4, loc=0, size=10000)\n",
    "B.sort()\n",
    "B=list(B)\n",
    "l4=[]\n",
    "l5=[] \n",
    "MM=max(B)-min(B)\n",
    "for i in range(10):\n",
    "    for j in range(10000):\n",
    "        if ( (min(B)+(i+1)*((MM)/10)) > B[j] >= (min(B)+i*((MM)/10))):\n",
    "            l5.append(i)\n",
    "for i in range(11):\n",
    "    l4.append((l5.count(i))/10000)\n",
    "    \n",
    "chicuadrado(l4) "
   ]
  },
  {
   "cell_type": "markdown",
   "metadata": {},
   "source": [
    "# Conclusion\n",
    "\n",
    "Se puede ver en este problema, como mediante el test del chi cuadrado solo nos permite evidenciar si la distribucion de probabilidades no puede ser explicada por la distribucion que tenemos. En este ejemplo se realizo justamente con la misma funcion que esta definido el test y con una gaussiana y vemos como dependiendo de donde este centrada la gaussiana, el test nos va a decir que no tenemos suficiente informacion para inclinarnos por la hipotesis alternativa. vemos como en el caso de la gaussiana, a medida que la movemos vemos como en cuatro lugares el mu hace que no pueda descartar la hipotesis nula a favor de la alternativa"
   ]
  }
 ],
 "metadata": {
  "kernelspec": {
   "display_name": "Python 3",
   "language": "python",
   "name": "python3"
  },
  "language_info": {
   "codemirror_mode": {
    "name": "ipython",
    "version": 3
   },
   "file_extension": ".py",
   "mimetype": "text/x-python",
   "name": "python",
   "nbconvert_exporter": "python",
   "pygments_lexer": "ipython3",
   "version": "3.8.5"
  }
 },
 "nbformat": 4,
 "nbformat_minor": 4
}
